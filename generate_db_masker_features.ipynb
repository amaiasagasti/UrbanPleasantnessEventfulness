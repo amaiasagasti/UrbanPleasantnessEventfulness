{
 "cells": [
  {
   "cell_type": "markdown",
   "metadata": {},
   "source": [
    "# Introducing maskers/sound source as input feature"
   ]
  },
  {
   "cell_type": "markdown",
   "metadata": {},
   "source": [
    "### First, transform masker column to numbers --> one-hot encoding\n",
    "\n",
    "\n",
    "One-hot encoding is a technique used to convert categorical variables into a numerical format that can be used for machine learning algorithms. It is particularly useful when dealing with categorical data that has no inherent order or hierarchy among its categories.\n",
    "\n",
    "Here's how one-hot encoding works:\n",
    "\n",
    "1) Identify Unique Categories:\n",
    "First, you identify all the unique categories present in the categorical variable.\n",
    "\n",
    "2) Create Binary Columns:\n",
    "For each unique category, you create a new binary column. Each binary column corresponds to one unique category.\n",
    "\n",
    "3) Assign Values:\n",
    "In each binary column, you assign a value of 1 if the observation belongs to the category represented by that column, and 0 otherwise.\n",
    "\n"
   ]
  },
  {
   "cell_type": "code",
   "execution_count": 1,
   "metadata": {},
   "outputs": [],
   "source": [
    "import sklearn.linear_model\n",
    "import numpy as np\n",
    "import pandas as pd\n",
    "import matplotlib.pyplot as plt\n",
    "import seaborn as sns\n",
    "import os"
   ]
  },
  {
   "cell_type": "code",
   "execution_count": 16,
   "metadata": {},
   "outputs": [
    {
     "name": "stdout",
     "output_type": "stream",
     "text": [
      "(160,) (27255, 160) Index(['participant', 'fold_r', 'soundscape', 'masker', 'smr',\n",
      "       'stimulus_index', 'time_taken', 'is_attention', 'pleasant', 'eventful',\n",
      "       ...\n",
      "       'M04000_0_r', 'M05000_0_r', 'M06300_0_r', 'M08000_0_r', 'M10000_0_r',\n",
      "       'M12500_0_r', 'M16000_0_r', 'M20000_0_r', 'Leq_L_r', 'Leq_R_r'],\n",
      "      dtype='object', length=160)\n"
     ]
    }
   ],
   "source": [
    "responses = pd.read_csv(os.path.join('..','data','responses.csv'), dtype = {'participant':str})\n",
    "print(responses.columns.shape, responses.shape, responses.columns)"
   ]
  },
  {
   "cell_type": "markdown",
   "metadata": {},
   "source": [
    "Extract only the maskers column to generate the one-hot encoding"
   ]
  },
  {
   "cell_type": "code",
   "execution_count": 6,
   "metadata": {},
   "outputs": [],
   "source": [
    "maskers=responses[\"masker\"]"
   ]
  },
  {
   "cell_type": "markdown",
   "metadata": {},
   "source": [
    "Now from the maskers, extract the type of masker from name (type_number.wav) and then calculate the number of different maskers there is, and assign an order"
   ]
  },
  {
   "cell_type": "code",
   "execution_count": 8,
   "metadata": {},
   "outputs": [
    {
     "name": "stdout",
     "output_type": "stream",
     "text": [
      "0             silence\n",
      "1             silence\n",
      "2               water\n",
      "3             traffic\n",
      "4             traffic\n",
      "             ...     \n",
      "27250         traffic\n",
      "27251         silence\n",
      "27252    construction\n",
      "27253         silence\n",
      "27254         silence\n",
      "Name: masker, Length: 27255, dtype: object\n"
     ]
    }
   ],
   "source": [
    "# Generate maskers column with just masker type\n",
    "maskers_type=maskers.str.split(\"_\").str[0]\n",
    "print(maskers_type)"
   ]
  },
  {
   "cell_type": "code",
   "execution_count": 13,
   "metadata": {},
   "outputs": [
    {
     "name": "stdout",
     "output_type": "stream",
     "text": [
      "['silence', 'water', 'traffic', 'construction', 'wind', 'bird']\n"
     ]
    }
   ],
   "source": [
    "# Now count different maskers\n",
    "maskers_variety=maskers_type.unique().tolist()\n",
    "print(maskers_variety)"
   ]
  },
  {
   "cell_type": "markdown",
   "metadata": {},
   "source": [
    "Now, generate the one-hot encoded dataframe"
   ]
  },
  {
   "cell_type": "code",
   "execution_count": 14,
   "metadata": {},
   "outputs": [
    {
     "name": "stdout",
     "output_type": "stream",
     "text": [
      "       masker_bird  masker_construction  masker_silence  masker_traffic  \\\n",
      "0                0                    0               1               0   \n",
      "1                0                    0               1               0   \n",
      "2                0                    0               0               0   \n",
      "3                0                    0               0               1   \n",
      "4                0                    0               0               1   \n",
      "...            ...                  ...             ...             ...   \n",
      "27250            0                    0               0               1   \n",
      "27251            0                    0               1               0   \n",
      "27252            0                    1               0               0   \n",
      "27253            0                    0               1               0   \n",
      "27254            0                    0               1               0   \n",
      "\n",
      "       masker_water  masker_wind  \n",
      "0                 0            0  \n",
      "1                 0            0  \n",
      "2                 1            0  \n",
      "3                 0            0  \n",
      "4                 0            0  \n",
      "...             ...          ...  \n",
      "27250             0            0  \n",
      "27251             0            0  \n",
      "27252             0            0  \n",
      "27253             0            0  \n",
      "27254             0            0  \n",
      "\n",
      "[27255 rows x 6 columns]\n"
     ]
    }
   ],
   "source": [
    "one_hot_encoded=pd.get_dummies(maskers_type, columns=maskers_variety, prefix=\"masker\")\n",
    "print(one_hot_encoded)"
   ]
  },
  {
   "cell_type": "markdown",
   "metadata": {},
   "source": [
    "Finally, concatenate the one-hot-encoded dataframe with the original, and store it as a new csv"
   ]
  },
  {
   "cell_type": "code",
   "execution_count": 15,
   "metadata": {},
   "outputs": [
    {
     "name": "stdout",
     "output_type": "stream",
     "text": [
      "(27255, 166)        participant  fold_r                          soundscape  \\\n",
      "0      ARAUS_00001      -1  R0091_segment_binaural_44100_1.wav   \n",
      "1      ARAUS_00001       1  R0079_segment_binaural_44100_1.wav   \n",
      "2      ARAUS_00001       1  R0056_segment_binaural_44100_2.wav   \n",
      "3      ARAUS_00001       1  R0046_segment_binaural_44100_2.wav   \n",
      "4      ARAUS_00001       1  R0092_segment_binaural_44100_1.wav   \n",
      "...            ...     ...                                 ...   \n",
      "27250  ARAUS_10005       0    R1007_segment_binaural_44100.wav   \n",
      "27251  ARAUS_10005       0    R1006_segment_binaural_44100.wav   \n",
      "27252  ARAUS_10005       0    R1008_segment_binaural_44100.wav   \n",
      "27253  ARAUS_10005       0    R1007_segment_binaural_44100.wav   \n",
      "27254  ARAUS_10005      -1  R0091_segment_binaural_44100_1.wav   \n",
      "\n",
      "                       masker  smr  stimulus_index  time_taken  is_attention  \\\n",
      "0           silence_00001.wav    0               1      98.328             0   \n",
      "1           silence_00001.wav    6               2      77.446             0   \n",
      "2             water_00047.wav   -3               3      67.102             0   \n",
      "3           traffic_00006.wav    6               4      56.640             0   \n",
      "4           traffic_00016.wav   -6               5      51.311             0   \n",
      "...                       ...  ...             ...         ...           ...   \n",
      "27250       traffic_10001.wav    0              47      43.005             0   \n",
      "27251       silence_10001.wav    0              48      34.629             0   \n",
      "27252  construction_10001.wav    0              49      31.484             0   \n",
      "27253       silence_10001.wav    0              50      35.533             0   \n",
      "27254       silence_10001.wav    0              51      37.181             0   \n",
      "\n",
      "       pleasant  eventful  ...  M16000_0_r  M20000_0_r    Leq_L_r    Leq_R_r  \\\n",
      "0             5         4  ...   30.380000   14.760000  85.172757  89.614971   \n",
      "1             5         2  ...   19.280000   22.170000  68.205627  68.885104   \n",
      "2             4         2  ...   50.650000   42.600000  74.789701  75.876626   \n",
      "3             5         4  ...   22.140000   15.740000  68.045045  70.963026   \n",
      "4             5         4  ...   23.930000   18.430000  77.314983  81.262421   \n",
      "...         ...       ...  ...         ...         ...        ...        ...   \n",
      "27250         3         4  ...   18.760216   14.550753  65.248280  67.034565   \n",
      "27251         2         5  ...   27.016665   31.888105  69.411266  71.075758   \n",
      "27252         1         4  ...   24.891455   21.321941  78.966513  78.857925   \n",
      "27253         5         2  ...   18.613720   14.485429  64.532490  66.833307   \n",
      "27254         2         5  ...   30.380000   14.760000  85.172757  89.614971   \n",
      "\n",
      "       masker_bird  masker_construction  masker_silence  masker_traffic  \\\n",
      "0                0                    0               1               0   \n",
      "1                0                    0               1               0   \n",
      "2                0                    0               0               0   \n",
      "3                0                    0               0               1   \n",
      "4                0                    0               0               1   \n",
      "...            ...                  ...             ...             ...   \n",
      "27250            0                    0               0               1   \n",
      "27251            0                    0               1               0   \n",
      "27252            0                    1               0               0   \n",
      "27253            0                    0               1               0   \n",
      "27254            0                    0               1               0   \n",
      "\n",
      "       masker_water  masker_wind  \n",
      "0                 0            0  \n",
      "1                 0            0  \n",
      "2                 1            0  \n",
      "3                 0            0  \n",
      "4                 0            0  \n",
      "...             ...          ...  \n",
      "27250             0            0  \n",
      "27251             0            0  \n",
      "27252             0            0  \n",
      "27253             0            0  \n",
      "27254             0            0  \n",
      "\n",
      "[27255 rows x 166 columns]\n"
     ]
    }
   ],
   "source": [
    "# Concatenate\n",
    "complete_responses=pd.concat([responses, one_hot_encoded], axis=1)\n",
    "print(complete_responses.shape, complete_responses)"
   ]
  },
  {
   "cell_type": "code",
   "execution_count": 18,
   "metadata": {},
   "outputs": [],
   "source": [
    "# Store locally\n",
    "complete_responses.to_csv(\"../data/responses_maskers_onehot.csv\", index=False)"
   ]
  }
 ],
 "metadata": {
  "kernelspec": {
   "display_name": "araus-mac",
   "language": "python",
   "name": "python3"
  },
  "language_info": {
   "codemirror_mode": {
    "name": "ipython",
    "version": 3
   },
   "file_extension": ".py",
   "mimetype": "text/x-python",
   "name": "python",
   "nbconvert_exporter": "python",
   "pygments_lexer": "ipython3",
   "version": "3.10.8"
  }
 },
 "nbformat": 4,
 "nbformat_minor": 2
}
