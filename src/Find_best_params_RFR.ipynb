{
 "cells": [
  {
   "cell_type": "code",
   "execution_count": 1,
   "metadata": {},
   "outputs": [],
   "source": [
    "import sklearn.linear_model\n",
    "from sklearn.preprocessing import RobustScaler\n",
    "import numpy as np\n",
    "import pandas as pd\n",
    "import os\n",
    "from SoundLights.dataset.features_groups import  general_info, ARAUS_features, Freesound_features, mix_features, masker_features, clap_features\n",
    "from SoundLights.models.models_functions import clip, normalize_columns, normalize_columns_minmax"
   ]
  },
  {
   "cell_type": "code",
   "execution_count": 2,
   "metadata": {},
   "outputs": [],
   "source": [
    "def prepare_data_models(dataframe, features_evaluated, masker_transform:str=\"None\", maskers_gain: float = 1):\n",
    "\n",
    "    # Drop string columns\n",
    "    \"\"\"dataframe = dataframe.drop(\"info.file\", axis=1)\n",
    "    dataframe = dataframe.drop(\"info.participant\", axis=1)\"\"\"\n",
    "\n",
    "    # Maskers colum, increase values\n",
    "    if(masker_transform==\"-1,1\"):\n",
    "        dataframe[\"info.masker_bird\"] = (dataframe[\"info.masker_bird\"]*2-1) * maskers_gain\n",
    "        dataframe[\"info.masker_construction\"] = (\n",
    "            (dataframe[\"info.masker_construction\"]*2-1) * maskers_gain\n",
    "        )\n",
    "        dataframe[\"info.masker_traffic\"] = (dataframe[\"info.masker_traffic\"]*2-1) * maskers_gain\n",
    "        dataframe[\"info.masker_silence\"] = (dataframe[\"info.masker_silence\"]*2-1) * maskers_gain\n",
    "        dataframe[\"info.masker_water\"] = (dataframe[\"info.masker_water\"]*2-1) * maskers_gain\n",
    "        dataframe[\"info.masker_wind\"] = (dataframe[\"info.masker_wind\"]*2-1) * maskers_gain\n",
    "    else:\n",
    "        dataframe[\"info.masker_bird\"] = (dataframe[\"info.masker_bird\"]) * maskers_gain\n",
    "        dataframe[\"info.masker_construction\"] = (\n",
    "            dataframe[\"info.masker_construction\"] * maskers_gain\n",
    "        )\n",
    "        dataframe[\"info.masker_traffic\"] = dataframe[\"info.masker_traffic\"] * maskers_gain\n",
    "        dataframe[\"info.masker_silence\"] = dataframe[\"info.masker_silence\"] * maskers_gain\n",
    "        dataframe[\"info.masker_water\"] = dataframe[\"info.masker_water\"] * maskers_gain\n",
    "        dataframe[\"info.masker_wind\"] = dataframe[\"info.masker_wind\"] * maskers_gain\n",
    "\n",
    "    # For fold 0, group data\n",
    "    dataframe_fold0 = dataframe[dataframe[\"info.fold\"] == 0]\n",
    "    # Drop string columns\n",
    "    print(\"\\n dataframe fold 0 before anything\", dataframe_fold0.info())\n",
    "    print(\" ----------------------------- \")\n",
    "    dataframe_fold0 = dataframe_fold0.drop(\"info.file\", axis=1)\n",
    "    dataframe_fold0 = dataframe_fold0.drop(\"info.participant\", axis=1)\n",
    "    dataframe_fold0 = dataframe_fold0.groupby(\n",
    "        [\"info.soundscape\", \"info.masker\", \"info.smr\"]\n",
    "    ).mean()#.reset_index()  # For the test set, the same 48 stimuli were shown to all participants so we take the mean of their ratings as the ground truth\n",
    "    print(\"\\n dataframe fold 0 after drop and groupby\", dataframe_fold0.info())\n",
    "    print(\" ----------------------------- \")\n",
    "    #print(\"\\n dataframe fold 0 has infoo.soundscape????\", dataframe_fold0[\"info.soundscape\"])\n",
    "    dataframe_filtered = dataframe[\n",
    "        dataframe[\"info.fold\"] != 0\n",
    "    ]  # Filter rows where 'fold' column is not equal to 0\n",
    "    print(\"\\n dataframe fildered info\", dataframe_filtered.info())\n",
    "    print(\" ----------------------------- \")\n",
    "    dataframe = pd.concat(\n",
    "        [dataframe_fold0, dataframe_filtered], ignore_index=True\n",
    "    )  # Join together\n",
    "\n",
    "    print(\"\\n dataframe concat\", dataframe.columns)\n",
    "    print(\" ----------------------------- \")\n",
    "\n",
    "    # Drop columns with all equal values or std=0\n",
    "    std = np.std(dataframe[features_evaluated], axis=0)\n",
    "    columns_to_mantain_arg = np.where(std >= 0.00001)[0]\n",
    "    columns_to_drop_arg = np.where(std < 0.00001)[0]\n",
    "    columns_to_mantain = [features_evaluated[i] for i in columns_to_mantain_arg]\n",
    "    columns_to_drop = [features_evaluated[i] for i in columns_to_drop_arg]\n",
    "    print(\"columns to drop \", columns_to_drop)\n",
    "    print(\" ----------------------------- \")\n",
    "    # print(features_evaluated[np.where(std == 0)[0]])\n",
    "    dataframe.drop(columns=columns_to_drop, inplace=True)\n",
    "\n",
    "    return dataframe, columns_to_mantain\n",
    "\n"
   ]
  },
  {
   "cell_type": "markdown",
   "metadata": {},
   "source": [
    "## PREPARE DATA "
   ]
  },
  {
   "cell_type": "markdown",
   "metadata": {},
   "source": [
    "#### Input general dataframe (folds 0,1,2,3,4,5)"
   ]
  },
  {
   "cell_type": "code",
   "execution_count": 3,
   "metadata": {},
   "outputs": [
    {
     "name": "stdout",
     "output_type": "stream",
     "text": [
      "<class 'pandas.core.frame.DataFrame'>\n",
      "RangeIndex: 25440 entries, 0 to 25439\n",
      "Columns: 285 entries, CLAP to freesound.rhythm.bpm\n",
      "dtypes: float64(261), int64(19), object(5)\n",
      "memory usage: 55.3+ MB\n",
      "None\n"
     ]
    }
   ],
   "source": [
    "df= pd.read_csv('../data/main_files/SoundLights_complete.csv')\n",
    "\n",
    "print(df.info())\n"
   ]
  },
  {
   "cell_type": "markdown",
   "metadata": {},
   "source": [
    "### Split into sections of data to use (ARAUS, Freesound or CLAP)"
   ]
  },
  {
   "cell_type": "code",
   "execution_count": 4,
   "metadata": {},
   "outputs": [],
   "source": [
    "# ARAUS features dataframe\n",
    "df_ARAUS=df[general_info+ARAUS_features]\n",
    "# Freesound features dataframe\n",
    "df_Freesound=df[general_info+Freesound_features]\n",
    "# CLAP embeddings dataframe\n",
    "df_clap=df[general_info+[\"CLAP\"]]\n",
    "#print(df_clap[\"CLAP\"].values[1])\n",
    "#print(df_clap[\"info.P_ground_truth\"].values[1])\n",
    "all_columns=general_info+clap_features\n",
    "full_list=[]\n",
    "for index, row in df_clap.iterrows():\n",
    "    string_list=row[\"CLAP\"].split(\"[\")[2].split(\"]\")[0].split(\",\")\n",
    "    clap_list = [float(item) for item in string_list]\n",
    "    #clap_list=clap_list[0:101] ##############################!!!!!!!!!!!!\n",
    "    complete_new_row=list(row[general_info].values)+clap_list\n",
    "    full_list.append(complete_new_row)\n",
    "df_clap=pd.DataFrame(data=full_list, columns=all_columns)\n",
    "#print(df_clap.iloc[1][[\"info.P_ground_truth\", \"clap_0\",\"clap_1\",\"clap_2\" ]])\n"
   ]
  },
  {
   "cell_type": "markdown",
   "metadata": {},
   "source": [
    "#### Input dataframe of new audios to validate (fold 6)"
   ]
  },
  {
   "cell_type": "code",
   "execution_count": 5,
   "metadata": {},
   "outputs": [],
   "source": [
    "df_real= pd.read_csv('../data/main_files/SoundLights_fold6.csv')\n",
    "# Adapt CLAP features\n",
    "df_fold6=df_real[ARAUS_features+Freesound_features+masker_features+[\"info.P_ground_truth\", \"info.E_ground_truth\", \"CLAP\"]]\n",
    "all_columns=ARAUS_features+Freesound_features+masker_features+[\"info.P_ground_truth\", \"info.E_ground_truth\"]+clap_features\n",
    "full_list=[]\n",
    "for index, row in df_fold6.iterrows():\n",
    "    string_list=row[\"CLAP\"].split(\"[\")[1].split(\"]\")[0].split(\",\")\n",
    "    clap_list = [float(item) for item in string_list]\n",
    "    #clap_list=clap_list[0:101] ##############################!!!!!!!!!!!!\n",
    "    complete_new_row=list(row[ARAUS_features+Freesound_features+masker_features+[\"info.P_ground_truth\", \"info.E_ground_truth\"]].values)+clap_list\n",
    "    full_list.append(complete_new_row)\n",
    "df_fold6=pd.DataFrame(data=full_list, columns=all_columns)\n"
   ]
  },
  {
   "cell_type": "markdown",
   "metadata": {},
   "source": [
    "### Select data to evaluate and adapt masker features if desired\n",
    "\n",
    "Here is where changes have to be made to try different configurations\n",
    "\n",
    "1) Which dataframe/set of features to evaluate. Change input df and features to prepare_data_models()\n",
    "2) Decide if maskers are used or not by adding them to features_to_use\n",
    "3) Decide if maskers are transformed by changing masker_gain and/or masker_transform\n",
    "4) To add normalizations, discomment the code that normalises"
   ]
  },
  {
   "cell_type": "code",
   "execution_count": 6,
   "metadata": {},
   "outputs": [
    {
     "name": "stdout",
     "output_type": "stream",
     "text": [
      "<class 'pandas.core.frame.DataFrame'>\n",
      "Index: 240 entries, 0 to 239\n",
      "Columns: 540 entries, info.file to clap_511\n",
      "dtypes: float64(517), int64(19), object(4)\n",
      "memory usage: 1014.4+ KB\n",
      "\n",
      " dataframe fold 0 before anything None\n",
      " ----------------------------- \n",
      "<class 'pandas.core.frame.DataFrame'>\n",
      "MultiIndex: 48 entries, ('R1001_segment_binaural_44100.wav', 'bird_10001.wav', 0) to ('R1008_segment_binaural_44100.wav', 'wind_10001.wav', 0)\n",
      "Columns: 535 entries, info.fold to clap_511\n",
      "dtypes: float64(535)\n",
      "memory usage: 201.1+ KB\n",
      "\n",
      " dataframe fold 0 after drop and groupby None\n",
      " ----------------------------- \n",
      "<class 'pandas.core.frame.DataFrame'>\n",
      "Index: 25200 entries, 240 to 25439\n",
      "Columns: 540 entries, info.file to clap_511\n",
      "dtypes: float64(517), int64(19), object(4)\n",
      "memory usage: 104.0+ MB\n",
      "\n",
      " dataframe fildered info None\n",
      " ----------------------------- \n",
      "\n",
      " dataframe concat Index(['info.fold', 'info.stimulus_index', 'info.wav_gain', 'info.time_taken',\n",
      "       'info.is_attention', 'info.pleasant', 'info.eventful', 'info.chaotic',\n",
      "       'info.vibrant', 'info.uneventful',\n",
      "       ...\n",
      "       'clap_507', 'clap_508', 'clap_509', 'clap_510', 'clap_511', 'info.file',\n",
      "       'info.participant', 'info.soundscape', 'info.masker', 'info.smr'],\n",
      "      dtype='object', length=540)\n",
      " ----------------------------- \n",
      "columns to drop  []\n",
      " ----------------------------- \n"
     ]
    }
   ],
   "source": [
    "#!!!!!! CHANGE\n",
    "masker_gain=1\n",
    "masker_transform=\"None\" #\"-1,1\"\n",
    "#!!!!!! CHANGE\n",
    "\n",
    "df_to_use,features_to_use=prepare_data_models(df_clap.copy(), clap_features,masker_transform, masker_gain) #!!!!!! CHANGE DATAFRAME AND FEATURES\n",
    "\n",
    "#!!!!!! CHANGE\n",
    "features_to_use=features_to_use#+[\"info.masker_bird\",\"info.masker_construction\",\"info.masker_silence\",\"info.masker_traffic\", \"info.masker_water\",\"info.masker_wind\"] \n",
    "#!!!!!! CHANGE\n",
    "pd.options.mode.chained_assignment = None  # Ignore warning, default='warn'\n",
    "if(masker_transform==\"-1,1\"):\n",
    "    df_fold6[\"info.masker_bird\"]=(df_fold6[\"info.masker_bird\"]*2-1)*masker_gain\n",
    "    df_fold6[\"info.masker_construction\"]=(df_fold6[\"info.masker_construction\"]*2-1)*masker_gain\n",
    "    df_fold6[\"info.masker_silence\"]=(df_fold6[\"info.masker_silence\"]*2-1)*masker_gain\n",
    "    df_fold6[\"info.masker_traffic\"]=(df_fold6[\"info.masker_traffic\"]*2-1)*masker_gain\n",
    "    df_fold6[\"info.masker_water\"]=(df_fold6[\"info.masker_water\"]*2-1)*masker_gain\n",
    "    df_fold6[\"info.masker_wind\"]=(df_fold6[\"info.masker_wind\"]*2-1)*masker_gain\n",
    "else:\n",
    "    df_fold6[\"info.masker_bird\"]=df_fold6[\"info.masker_bird\"]*masker_gain\n",
    "    df_fold6[\"info.masker_construction\"]=df_fold6[\"info.masker_construction\"]*masker_gain\n",
    "    df_fold6[\"info.masker_silence\"]=df_fold6[\"info.masker_silence\"]*masker_gain\n",
    "    df_fold6[\"info.masker_traffic\"]=df_fold6[\"info.masker_traffic\"]*masker_gain\n",
    "    df_fold6[\"info.masker_water\"]=df_fold6[\"info.masker_water\"]*masker_gain\n",
    "    df_fold6[\"info.masker_wind\"]=df_fold6[\"info.masker_wind\"]*masker_gain"
   ]
  },
  {
   "cell_type": "markdown",
   "metadata": {},
   "source": [
    "## Check for best parameters - ARAUS or Freesound features"
   ]
  },
  {
   "cell_type": "markdown",
   "metadata": {},
   "source": [
    "### Adjust n_neighbors"
   ]
  },
  {
   "cell_type": "code",
   "execution_count": 7,
   "metadata": {},
   "outputs": [
    {
     "name": "stdout",
     "output_type": "stream",
     "text": [
      "     |         Mean squared error        |             Mean  error            |\n",
      "Fold |--------+--------+--------+--------|--------+--------+--------|---------|\n",
      "     | Train  |   Val  |  Test  |Test(f6)| Train  |   Val  |  Test  | Test(f6)|\n",
      "-----+--------+--------+--------+--------+--------+--------+--------+----------\n",
      "Curren| 0.0151 | 0.1187 | 0.0720 | 0.0234 | 0.0986 | 0.2784 | 0.2240 | 0.1260 |\n",
      "Curren| 0.0154 | 0.1151 | 0.0714 | 0.0321 | 0.0996 | 0.2744 | 0.2233 | 0.1504 |\n",
      "Curren| 0.0152 | 0.1248 | 0.0720 | 0.0240 | 0.0988 | 0.2848 | 0.2246 | 0.1347 |\n",
      "Curren| 0.0149 | 0.1283 | 0.0702 | 0.0253 | 0.0977 | 0.2940 | 0.2154 | 0.1347 |\n",
      "Curren| 0.0153 | 0.1155 | 0.0666 | 0.0248 | 0.0990 | 0.2774 | 0.2106 | 0.1443 |\n",
      "Parameters  200\n",
      "Mean | 0.0152 | 0.1205 | 0.0705 | 0.0259 | 0.0987 | 0.2818 | 0.2196 | 0.1380 |\n",
      "Best parameters were  200  giving a mean of  0.21313961844312246\n"
     ]
    }
   ],
   "source": [
    "import warnings\n",
    "from sklearn.exceptions import ConvergenceWarning\n",
    "# Suppress ConvergenceWarning\n",
    "warnings.filterwarnings(\"ignore\", category=ConvergenceWarning)\n",
    "from sklearn.ensemble import RandomForestRegressor\n",
    "\n",
    "print('     |         Mean squared error        |             Mean  error            |')\n",
    "print('Fold |--------+--------+--------+--------|--------+--------+--------|---------|')\n",
    "print('     | Train  |   Val  |  Test  |Test(f6)| Train  |   Val  |  Test  | Test(f6)|')\n",
    "print('-----+--------+--------+--------+--------+--------+--------+--------+----------')\n",
    "n_estimators=[200]\n",
    "\n",
    "prev_mean=9999\n",
    "for value in n_estimators:\n",
    "\n",
    "    model = RandomForestRegressor(n_estimators=value, random_state=0)\n",
    "    #print(f'Investigating performance of {model} model...')\n",
    "\n",
    "    MSEs_train = []\n",
    "    MSEs_val = []\n",
    "    MSEs_test = []\n",
    "    MSEs_fold6 = []\n",
    "    MEs_train = []\n",
    "    MEs_val = []\n",
    "    MEs_test = []\n",
    "    MEs_fold6 = []\n",
    "\n",
    "    \n",
    "    for val_fold in [1,2,3,4,5]:\n",
    "        \n",
    "        # Extract dataframes\n",
    "        df_train = df_to_use[(df_to_use['info.fold'] != val_fold) & (df_to_use['info.fold'] > 0)] # For the training set, use all samples that are not in the test set (fold 0) and current validation fold.\n",
    "        df_val   = df_to_use[df_to_use['info.fold'] == val_fold]\n",
    "        df_test  = df_to_use[df_to_use['info.fold'] == 0] \n",
    "\n",
    "\n",
    "        # Get ground-truth labels\n",
    "        Y_train = df_train['info.P_ground_truth'].values#[0:10]\n",
    "        Y_val = df_val['info.P_ground_truth'].values\n",
    "        Y_test = df_test['info.P_ground_truth'].values\n",
    "        Y_fold6 = df_fold6['info.P_ground_truth'].values\n",
    "\n",
    "\n",
    "        # Get feature matrices\n",
    "        X_train = df_train[features_to_use].values#[:,0:100]\n",
    "        X_val =df_val[features_to_use].values#[:,0:100]\n",
    "        X_test = df_test[features_to_use].values#[:,0:100]\n",
    "        X_fold6 = df_fold6[features_to_use].values#[:,0:100]\n",
    "\n",
    "        # Get features normalized_data = (data - mean) / (std)\n",
    "        \"\"\" X_train, mean, std=normalize_columns(X_train)\n",
    "        X_val= (X_val - mean) / (std)\n",
    "        X_test= (X_test - mean) / (std)\n",
    "        X_fold6= (X_fold6 - mean) / (std) \"\"\"\n",
    "        # Get features normalized_data = (data - min) / (max-min)\n",
    "        \"\"\" X_train, min, max=normalize_columns_minmax(X_train)\n",
    "        X_val= (X_val - min) / (max - min)\n",
    "        X_test= (X_test - min) / (max - min)\n",
    "        X_fold6= (X_fold6 - min) / (max - min) \"\"\"\n",
    "\n",
    "        # Fit model\n",
    "        model.fit(X_train, Y_train)\n",
    "\n",
    "        #print(\"iterations \", X_LR.n_iter_, X_LR.n_features_in_)\n",
    "\n",
    "        # Get MSEs\n",
    "        MSE_train = np.mean((clip(model.predict(X_train)) - Y_train)**2)\n",
    "        MSE_val = np.mean((clip(model.predict(X_val)) - Y_val)**2)\n",
    "        MSE_test = np.mean((clip(model.predict(X_test)) - Y_test)**2)\n",
    "        MSE_fold6 = np.mean((clip(model.predict(X_fold6)) - Y_fold6)**2)\n",
    "        ME_train = np.mean(np.abs(clip(model.predict(X_train)) - Y_train))\n",
    "        ME_val = np.mean(np.abs(clip(model.predict(X_val)) - Y_val))\n",
    "        ME_test = np.mean(np.abs(clip(model.predict(X_test)) - Y_test))\n",
    "        ME_fold6 = np.mean(np.abs(clip(model.predict(X_fold6)) - Y_fold6))\n",
    "\n",
    "        # Add metrics\n",
    "        MSEs_train.append(MSE_train)\n",
    "        MSEs_val.append(MSE_val)\n",
    "        MSEs_test.append(MSE_test)\n",
    "        MSEs_fold6.append(MSE_fold6)\n",
    "        MEs_train.append(ME_train)\n",
    "        MEs_val.append(ME_val)\n",
    "        MEs_test.append(ME_test)\n",
    "        MEs_fold6.append(ME_fold6)\n",
    "        print(f'Curren| {MSE_train:.4f} | {MSE_val:.4f} | {(MSE_test):.4f} | {(MSE_fold6):.4f} | {ME_train:.4f} | {ME_val:.4f} | {(ME_test):.4f} | {(ME_fold6):.4f} |')\n",
    "\n",
    "    print(\"Parameters \",value)\n",
    "    print(f'Mean | {np.mean(MSEs_train):.4f} | {np.mean(MSEs_val):.4f} | {np.mean(MSEs_test):.4f} | {np.mean(MSEs_fold6):.4f} | {np.mean(MEs_train):.4f} | {np.mean(MEs_val):.4f} | {np.mean(MEs_test):.4f} | {np.mean(MEs_fold6):.4f} |')\n",
    "\n",
    "    current_mean=(np.mean(MEs_val)+np.mean(MEs_test)+np.mean(MEs_fold6))/3\n",
    "    if current_mean<prev_mean:\n",
    "        prev_mean=current_mean\n",
    "        chosen=(value)\n",
    "\n",
    "    \n",
    "print(\"Best parameters were \", chosen, \" giving a mean of \", prev_mean)"
   ]
  },
  {
   "cell_type": "code",
   "execution_count": 8,
   "metadata": {},
   "outputs": [
    {
     "data": {
      "text/plain": [
       "['../data/models/RFR_CLAP_P2.joblib']"
      ]
     },
     "execution_count": 8,
     "metadata": {},
     "output_type": "execute_result"
    }
   ],
   "source": [
    "model_path=\"../data/models/RFR_CLAP_P2.joblib\"\n",
    "from joblib import dump\n",
    "dump(model, model_path)"
   ]
  },
  {
   "cell_type": "code",
   "execution_count": 9,
   "metadata": {},
   "outputs": [
    {
     "name": "stdout",
     "output_type": "stream",
     "text": [
      "(20160, 512)\n"
     ]
    }
   ],
   "source": [
    "print(X_train.shape)"
   ]
  }
 ],
 "metadata": {
  "kernelspec": {
   "display_name": "base",
   "language": "python",
   "name": "python3"
  },
  "language_info": {
   "codemirror_mode": {
    "name": "ipython",
    "version": 3
   },
   "file_extension": ".py",
   "mimetype": "text/x-python",
   "name": "python",
   "nbconvert_exporter": "python",
   "pygments_lexer": "ipython3",
   "version": "3.10.14"
  }
 },
 "nbformat": 4,
 "nbformat_minor": 2
}
