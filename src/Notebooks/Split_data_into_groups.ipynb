{
 "cells": [
  {
   "cell_type": "code",
   "execution_count": 1,
   "metadata": {},
   "outputs": [],
   "source": [
    "from SoundLights.dataset_functions import import_jsons_to_dataframe\n",
    "from SoundLights.features_groups import  ARAUS_features, Freesound_features, mix_features, general_info"
   ]
  },
  {
   "cell_type": "code",
   "execution_count": 2,
   "metadata": {},
   "outputs": [
    {
     "name": "stdout",
     "output_type": "stream",
     "text": [
      "../data/output/SoundsDB_f0p10001s02_f0p10005s50.json\n",
      "../data/output/SoundsDB_f1p00001s02_f1p00116s36.json\n",
      "../data/output/SoundsDB_f1p00116s37_f1p00281s14.json\n",
      "../data/output/SoundsDB_f1p00236s21_f1p00356s19.json\n",
      "../data/output/SoundsDB_f1p00356s21_f1p00476s11.json\n",
      "../data/output/SoundsDB_f1p00476s12_f1p00596s44.json\n",
      "../data/output/SoundsDB_f2p00002s02_f2p00117s36.json\n",
      "../data/output/SoundsDB_f2p00117s37_f2p00237s28.json\n",
      "../data/output/SoundsDB_f2p00237s29_f2p00357s19.json\n",
      "../data/output/SoundsDB_f2p00357s20_f2p00477s11.json\n",
      "../data/output/SoundsDB_f2p00477s12_f2p00597s44.json\n",
      "../data/output/SoundsDB_f3p00003s02_f3p00118s36.json\n",
      "../data/output/SoundsDB_f3p00118s37_f3p00238s28.json\n",
      "../data/output/SoundsDB_f3p00238s29_f3p00358s20.json\n",
      "../data/output/SoundsDB_f3p00358s21_f3p00478s11.json\n",
      "../data/output/SoundsDB_f3p00478s12_f3p00598s44.json\n",
      "../data/output/SoundsDB_f4p00004s02_f4p00119s36.json\n",
      "../data/output/SoundsDB_f4p00119s37_f4p00239s28.json\n",
      "../data/output/SoundsDB_f4p00239s29_f4p00359s19.json\n",
      "../data/output/SoundsDB_f4p00359s20_f4p00479s11.json\n",
      "../data/output/SoundsDB_f4p00479s12_f4p00599s44.json\n",
      "../data/output/SoundsDB_f5p00005s02_f5p00120s44.json\n",
      "../data/output/SoundsDB_f5p00120s37_f5p00240s28.json\n",
      "../data/output/SoundsDB_f5p00240s29_f5p00360s20.json\n",
      "../data/output/SoundsDB_f5p00360s21_f5p00480s11.json\n",
      "../data/output/SoundsDB_f5p00480s12_f5p00600s44.json\n"
     ]
    }
   ],
   "source": [
    "df=import_jsons_to_dataframe(\"../data/output/\")"
   ]
  },
  {
   "cell_type": "code",
   "execution_count": 3,
   "metadata": {},
   "outputs": [],
   "source": [
    "df_ARAUS=df[general_info+ARAUS_features]\n",
    "df_Freesound=df[general_info+Freesound_features]\n",
    "df_mix=df[general_info+mix_features]\n",
    "df_complete=df[general_info+ARAUS_features+Freesound_features]\n"
   ]
  },
  {
   "cell_type": "code",
   "execution_count": 4,
   "metadata": {},
   "outputs": [],
   "source": [
    "# Save new subdatasets\n",
    "df_ARAUS.to_csv(\"../data/SoundLights_ARAUS.csv\", index=False)\n",
    "df_Freesound.to_csv(\"../data/SoundLights_Freesound.csv\", index=False)\n",
    "df_mix.to_csv(\"../data/SoundLights_mix.csv\", index=False)\n",
    "df_complete.to_csv(\"../data/SoundLights_complete.csv\", index=False)"
   ]
  }
 ],
 "metadata": {
  "kernelspec": {
   "display_name": "base",
   "language": "python",
   "name": "python3"
  },
  "language_info": {
   "codemirror_mode": {
    "name": "ipython",
    "version": 3
   },
   "file_extension": ".py",
   "mimetype": "text/x-python",
   "name": "python",
   "nbconvert_exporter": "python",
   "pygments_lexer": "ipython3",
   "version": "3.11.7"
  }
 },
 "nbformat": 4,
 "nbformat_minor": 2
}
