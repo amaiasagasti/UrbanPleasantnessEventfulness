{
 "cells": [
  {
   "cell_type": "markdown",
   "metadata": {},
   "source": [
    "### Import relevant packages"
   ]
  },
  {
   "cell_type": "code",
   "execution_count": 1,
   "metadata": {},
   "outputs": [],
   "source": [
    "import sklearn.linear_model\n",
    "import numpy as np\n",
    "import pandas as pd\n",
    "import os\n",
    "from SoundLights.features_groups import  ARAUS_features\n",
    "\n",
    "clip = lambda x, x_min = -1, x_max = 1: np.where(np.where(x < x_min,x_min,x) > x_max, x_max, np.where(x < x_min,x_min,x)) # Clip an array to values between x_min and x_max."
   ]
  },
  {
   "cell_type": "markdown",
   "metadata": {},
   "source": [
    "### Load data files for responses"
   ]
  },
  {
   "cell_type": "code",
   "execution_count": 2,
   "metadata": {},
   "outputs": [
    {
     "name": "stdout",
     "output_type": "stream",
     "text": [
      "['ARAUS.sharpness.avg', 'ARAUS.sharpness.max', 'ARAUS.sharpness.p05', 'ARAUS.sharpness.p10', 'ARAUS.sharpness.p20', 'ARAUS.sharpness.p30', 'ARAUS.sharpness.p40', 'ARAUS.sharpness.p50', 'ARAUS.sharpness.p60', 'ARAUS.sharpness.p70', 'ARAUS.sharpness.p80', 'ARAUS.sharpness.p90', 'ARAUS.sharpness.p95', 'ARAUS.loudness.avg', 'ARAUS.loudness.max', 'ARAUS.loudness.p05', 'ARAUS.loudness.p10', 'ARAUS.loudness.p20', 'ARAUS.loudness.p30', 'ARAUS.loudness.p40', 'ARAUS.loudness.p50', 'ARAUS.loudness.p60', 'ARAUS.loudness.p70', 'ARAUS.loudness.p80', 'ARAUS.loudness.p90', 'ARAUS.loudness.p95', 'ARAUS.fluctuation.avg', 'ARAUS.fluctuation.max', 'ARAUS.fluctuation.p05', 'ARAUS.fluctuation.p10', 'ARAUS.fluctuation.p20', 'ARAUS.fluctuation.p30', 'ARAUS.fluctuation.p40', 'ARAUS.fluctuation.p50', 'ARAUS.fluctuation.p60', 'ARAUS.fluctuation.p70', 'ARAUS.fluctuation.p80', 'ARAUS.fluctuation.p90', 'ARAUS.fluctuation.p95', 'ARAUS.LA.avg', 'ARAUS.LA.min', 'ARAUS.LA.max', 'ARAUS.LA.p05', 'ARAUS.LA.p10', 'ARAUS.LA.p20', 'ARAUS.LA.p30', 'ARAUS.LA.p40', 'ARAUS.LA.p50', 'ARAUS.LA.p60', 'ARAUS.LA.p70', 'ARAUS.LA.p80', 'ARAUS.LA.p90', 'ARAUS.LA.p95', 'ARAUS.LC.avg', 'ARAUS.LC.min', 'ARAUS.LC.max', 'ARAUS.LC.p05', 'ARAUS.LC.p10', 'ARAUS.LC.p20', 'ARAUS.LC.p30', 'ARAUS.LC.p40', 'ARAUS.LC.p50', 'ARAUS.LC.p60', 'ARAUS.LC.p70', 'ARAUS.LC.p80', 'ARAUS.LC.p90', 'ARAUS.LC.p95', 'ARAUS.roughness.avg', 'ARAUS.roughness.max', 'ARAUS.roughness.p05', 'ARAUS.roughness.p10', 'ARAUS.roughness.p20', 'ARAUS.roughness.p30', 'ARAUS.roughness.p40', 'ARAUS.roughness.p50', 'ARAUS.roughness.p60', 'ARAUS.roughness.p70', 'ARAUS.roughness.p80', 'ARAUS.roughness.p90', 'ARAUS.roughness.p95', 'ARAUS.energy_frequency.00006_3', 'ARAUS.energy_frequency.00012_5', 'ARAUS.energy_frequency.00016_0', 'ARAUS.energy_frequency.00025_0', 'ARAUS.energy_frequency.00031_5', 'ARAUS.energy_frequency.00040_0', 'ARAUS.energy_frequency.00050_0', 'ARAUS.energy_frequency.00063_0', 'ARAUS.energy_frequency.00080_0', 'ARAUS.energy_frequency.00100_0', 'ARAUS.energy_frequency.00125_0', 'ARAUS.energy_frequency.00160_0', 'ARAUS.energy_frequency.00200_0', 'ARAUS.energy_frequency.00250_0', 'ARAUS.energy_frequency.00315_0', 'ARAUS.energy_frequency.00400_0', 'ARAUS.energy_frequency.00500_0', 'ARAUS.energy_frequency.00630_0', 'ARAUS.energy_frequency.00800_0', 'ARAUS.energy_frequency.01000_0', 'ARAUS.energy_frequency.01250_0', 'ARAUS.energy_frequency.01600_0', 'ARAUS.energy_frequency.02000_0', 'ARAUS.energy_frequency.02500_0', 'ARAUS.energy_frequency.03150_0', 'ARAUS.energy_frequency.04000_0', 'ARAUS.energy_frequency.05000_0', 'ARAUS.energy_frequency.06300_0', 'ARAUS.energy_frequency.08000_0', 'ARAUS.energy_frequency.10000_0', 'ARAUS.energy_frequency.12500_0', 'ARAUS.energy_frequency.16000_0', 'ARAUS.energy_frequency.20000_0']\n"
     ]
    }
   ],
   "source": [
    "responses_ARAUS= pd.read_csv(os.path.join('..','data','SoundLights_ARAUS.csv'), dtype = {'info.participant':str}) #, dtype = {'participant':str}\n",
    "responses_ARAUS=responses_ARAUS.drop(\"info.file\", axis=1)\n",
    "responses_ARAUS=responses_ARAUS.drop(\"info.participant\", axis=1)\n",
    "\n",
    "# Drop columns that contain all zero values\n",
    "# Store column names before dropping\n",
    "columns_before = responses_ARAUS.columns.tolist()\n",
    "# Drop zero-columns\n",
    "responses_ARAUS = responses_ARAUS.loc[:, (responses_ARAUS != 0).any(axis=0)]\n",
    "# Store column names after dropping\n",
    "columns_after = responses_ARAUS.columns.tolist()\n",
    "# Determine which columns were dropped\n",
    "columns_dropped = [col for col in columns_before if col not in columns_after]\n",
    "# Drop those columns from ARAUS_features\n",
    "ARAUS_features = [col for col in ARAUS_features if col not in columns_dropped]\n",
    "print(ARAUS_features)"
   ]
  },
  {
   "cell_type": "markdown",
   "metadata": {},
   "source": [
    "## Dummy \"label mean\" model\n",
    "\n",
    "Now, we compute the relevant metrics for a dummy \"label mean\" model, which just predicts the mean of the ground-truth labels in its training set no matter the input (Regardless of the input feature, the dummy \"label mean\" model always predicts the calculated mean value)"
   ]
  },
  {
   "cell_type": "code",
   "execution_count": 3,
   "metadata": {},
   "outputs": [
    {
     "name": "stdout",
     "output_type": "stream",
     "text": [
      "Investigating performance of ElasticNet() model...\n",
      "     |    Mean squared error    |        Mean  error       |       # samples      | #     |\n",
      "Fold |--------+--------+--------|--------+--------+--------|-------+-------+------| feat- |\n",
      "     | Train  |   Val  |  Test  | Train  |   Val  |  Test  | Train |  Val  | Test | ures  |\n",
      "-----+--------+--------+--------+--------+--------+--------+---------+-------+-------+------+-------+------\n",
      "   1 | 0.1664 | 0.1504 | 0.0966 | 0.3417 | 0.3225 | 0.2632 | 20160 |  5040 |  48  |  113  |\n",
      "   2 | 0.1620 | 0.1676 | 0.0972 | 0.3366 | 0.3429 | 0.2642 | 20160 |  5040 |  48  |  113  |\n",
      "   3 | 0.1674 | 0.1463 | 0.0971 | 0.3423 | 0.3201 | 0.2641 | 20160 |  5040 |  48  |  113  |\n",
      "   4 | 0.1621 | 0.1676 | 0.0968 | 0.3369 | 0.3417 | 0.2635 | 20160 |  5040 |  48  |  113  |\n",
      "   5 | 0.1578 | 0.1848 | 0.0979 | 0.3316 | 0.3627 | 0.2654 | 20160 |  5040 |  48  |  113  |\n",
      "Mean | 0.1631 | 0.1633 | 0.0971 | 0.3378 | 0.3380 | 0.2641 |\n"
     ]
    }
   ],
   "source": [
    "model = sklearn.linear_model.ElasticNet()\n",
    "print(f'Investigating performance of {model} model...')\n",
    "MSEs_train = []\n",
    "MSEs_val = []\n",
    "MSEs_test = []\n",
    "MEs_train = []\n",
    "MEs_val = []\n",
    "MEs_test = []\n",
    "\n",
    "print('     |    Mean squared error    |        Mean  error       |       # samples      | #     |')\n",
    "print('Fold |--------+--------+--------|--------+--------+--------|-------+-------+------| feat- |')\n",
    "print('     | Train  |   Val  |  Test  | Train  |   Val  |  Test  | Train |  Val  | Test | ures  |')\n",
    "print('-----+--------+--------+--------+--------+--------+--------+---------+-------+-------+------+-------+------')\n",
    "for val_fold in [1,2,3,4,5]:\n",
    "\n",
    "    # Extract dataframes\n",
    "    df_train = responses_ARAUS[(responses_ARAUS['info.fold'] != val_fold) & (responses_ARAUS['info.fold'] > 0)] # For the training set, use all samples that are not in the test set (fold 0) and current validation fold.\n",
    "    df_val   = responses_ARAUS[responses_ARAUS['info.fold'] == val_fold]\n",
    "    df_test  = responses_ARAUS[responses_ARAUS['info.fold'] == 0].groupby(['info.soundscape','info.masker','info.smr']).mean() # For the test set, the same 48 stimuli were shown to all participants so we take the mean of their ratings as the ground truth\n",
    "\n",
    "    # Get ground-truth labels\n",
    "    Y_train = df_train['info.E_ground_truth'].values\n",
    "    Y_val = df_val['info.E_ground_truth'].values\n",
    "    Y_test = df_test['info.E_ground_truth'].values\n",
    "\n",
    "    # Get features\n",
    "    X_train = df_train[ARAUS_features].values\n",
    "    X_val =df_val[ARAUS_features].values\n",
    "    X_test = df_test[ARAUS_features].values    \n",
    "\n",
    "    # This will be the model's prediction for all unseen data (output for any input)\n",
    "    y_hat = df_train['info.E_ground_truth'].values.mean() \n",
    "\n",
    "\n",
    "    # Get MSEs\n",
    "    MSE_train = np.mean((y_hat - Y_train)**2)\n",
    "    MSE_val = np.mean((y_hat - Y_val)**2)\n",
    "    MSE_test = np.mean((y_hat - Y_test)**2)\n",
    "    ME_train = np.mean(np.abs(y_hat - Y_train))\n",
    "    ME_val = np.mean(np.abs(y_hat - Y_val))\n",
    "    ME_test = np.mean(np.abs(y_hat- Y_test))\n",
    "\n",
    "    # Add metrics\n",
    "    MSEs_train.append(MSE_train)\n",
    "    MSEs_val.append(MSE_val)\n",
    "    MSEs_test.append(MSE_test)\n",
    "    MEs_train.append(ME_train)\n",
    "    MEs_val.append(ME_val)\n",
    "    MEs_test.append(ME_test)\n",
    "\n",
    "    print(f'{val_fold:4d} | {MSE_train:.4f} | {MSE_val:.4f} | {MSE_test:.4f} | {ME_train:.4f} | {ME_val:.4f} | {ME_test:.4f} | {X_train.shape[0]:5d} | {X_val.shape[0]:5d} | {X_test.shape[0]:^4d} | {X_train.shape[1]:^5d} |')\n",
    "\n",
    "print(f'Mean | {np.mean(MSEs_train):.4f} | {np.mean(MSEs_val):.4f} | {np.mean(MSEs_test):.4f} | {np.mean(MEs_train):.4f} | {np.mean(MEs_val):.4f} | {np.mean(MEs_test):.4f} |')\n"
   ]
  }
 ],
 "metadata": {
  "kernelspec": {
   "display_name": "araus-mac",
   "language": "python",
   "name": "python3"
  },
  "language_info": {
   "codemirror_mode": {
    "name": "ipython",
    "version": 3
   },
   "file_extension": ".py",
   "mimetype": "text/x-python",
   "name": "python",
   "nbconvert_exporter": "python",
   "pygments_lexer": "ipython3",
   "version": "3.11.7"
  }
 },
 "nbformat": 4,
 "nbformat_minor": 2
}
