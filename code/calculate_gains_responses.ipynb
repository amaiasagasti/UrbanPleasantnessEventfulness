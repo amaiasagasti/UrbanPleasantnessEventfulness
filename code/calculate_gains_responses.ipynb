{
 "cells": [
  {
   "cell_type": "markdown",
   "metadata": {},
   "source": [
    "# Generating gains for wav calibration on augmented soundscapes"
   ]
  },
  {
   "cell_type": "markdown",
   "metadata": {},
   "source": [
    "In ARAUS dataset responses.csv constitute the dataset of +25k augmented soundscapes labeled with psychoacoustic and acoustic parametres. Among these, we can find Leq_r, which constitutes the Leq of channel R for each audio. These value is calculated according to the formula below. We calculate the Leq on the digital signal channel R, without any wav calibration. The obtained value is sustracted from the corresponding Leq_r. The difference is converted to lineal, and it constitutes the wav calibration we need to apply to the audio."
   ]
  },
  {
   "cell_type": "code",
   "execution_count": 1,
   "metadata": {},
   "outputs": [],
   "source": [
    "# Add MOSQITO to the Python path\n",
    "import sys\n",
    "import os\n",
    "sys.path.append('..')\n",
    "\n",
    "# Import numpy\n",
    "import numpy as np\n",
    "import pandas as pd\n",
    "# Import plot function\n",
    "import matplotlib.pyplot as plt\n",
    "# Import mosqito functions\n",
    "#from mosqito.utils import load\n",
    "from scipy.io import wavfile\n",
    "from scipy.signal import resample\n",
    "from maad.spl import pressure2leq, pressure2dBSPL\n",
    "from maad.util import mean_dB\n",
    "import librosa\n",
    "\n",
    "# Import MOSQITO color sheme [Optional]\n",
    "from mosqito import COLORS"
   ]
  },
  {
   "cell_type": "code",
   "execution_count": null,
   "metadata": {},
   "outputs": [],
   "source": [
    "data_augmented = pd.read_csv(\"../data/responses_complete.csv\")\n",
    "# For each audio...\n",
    "audios_path = \"../data/soundscapes_augmented/\"\n",
    "for file in sorted(os.listdir(audios_path)):\n",
    "        if file.endswith('.mp3') or file.endswith('.wav'):\n",
    "            print(\"FILEEEEEEEEEE \", file)\n",
    "            # audio path\n",
    "            audio_path=audios_path+file\n",
    "            # Find the row where the filename matches in the \"soundscape\" column\n",
    "            file_split=file.split(\"_\")\n",
    "            file_fold=int(file_split[1])\n",
    "            file_participant=\"ARAUS_\"+file_split[3]\n",
    "            file_stimulus=int(file_split[5].split(\".\")[0])\n",
    "            audio_info_aug = data_augmented[data_augmented['fold_r'] == file_fold]\n",
    "            audio_info_aug = audio_info_aug[audio_info_aug['stimulus_index'] == file_stimulus]\n",
    "            audio_info_aug = audio_info_aug[audio_info_aug['participant'] == file_participant] # Row of info from responses.csv\n",
    "            soundscape=audio_info_aug['soundscape'].values[0]\n",
    "            audio_info_gen = data_generated[data_generated['soundscape_file'] == soundscape] # Row of info form generated.csv\n",
    "            print(\"audio sounscape \", soundscape)\n",
    "\n",
    "            #Get Leq of raw digital audio to calculate audio gain needed\n",
    "            rawR, fs = load(audio_path, wav_calib=1, ch=1) #R\n",
    "            rawR_Leq_avg=mean_dB(pressure2leq(rawR, fs, 0.125))\n",
    "            trueLeq=audio_info_aug[\"Leq_R_r\"].values[0]\n",
    "            difference=trueLeq-rawR_Leq_avg\n",
    "            audio_gain=10**(difference/20)\n",
    "            print(audio_gain, \" gain factor\")"
   ]
  }
 ],
 "metadata": {
  "kernelspec": {
   "display_name": "Python 3",
   "language": "python",
   "name": "python3"
  },
  "language_info": {
   "codemirror_mode": {
    "name": "ipython",
    "version": 3
   },
   "file_extension": ".py",
   "mimetype": "text/x-python",
   "name": "python",
   "nbconvert_exporter": "python",
   "pygments_lexer": "ipython3",
   "version": "3.12.0"
  }
 },
 "nbformat": 4,
 "nbformat_minor": 2
}
