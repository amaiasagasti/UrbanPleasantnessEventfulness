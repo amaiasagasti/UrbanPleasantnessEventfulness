{
 "cells": [
  {
   "cell_type": "code",
   "execution_count": 1,
   "metadata": {},
   "outputs": [],
   "source": [
    "import sklearn\n",
    "import numpy as np\n",
    "import pandas as pd\n",
    "import os\n",
    "from SoundLights.features_groups import  ARAUS_features\n",
    "\n",
    "normalise = lambda X: (X-np.mean(X,axis=0,keepdims=True))/np.std(X,axis=0,keepdims=True) # Normalise an (n,p) numpy array to mean 0, variance 1.\n",
    "clip = lambda x, x_min = -1, x_max = 1: np.where(np.where(x < x_min,x_min,x) > x_max, x_max, np.where(x < x_min,x_min,x)) # Clip an array to values between x_min and x_max."
   ]
  },
  {
   "cell_type": "markdown",
   "metadata": {},
   "source": [
    "## 0) PREPARE DATA"
   ]
  },
  {
   "cell_type": "code",
   "execution_count": 2,
   "metadata": {},
   "outputs": [
    {
     "name": "stdout",
     "output_type": "stream",
     "text": [
      "<class 'pandas.core.frame.DataFrame'>\n",
      "RangeIndex: 24440 entries, 0 to 24439\n",
      "Columns: 138 entries, info.fold to ARAUS.energy_frequency.20000_0\n",
      "dtypes: float64(118), int64(18), object(2)\n",
      "memory usage: 25.7+ MB\n"
     ]
    }
   ],
   "source": [
    "responses= pd.read_csv(os.path.join('..','data','SoundLights_ARAUS.csv'), dtype = {'info.participant':str}) #, dtype = {'participant':str}\n",
    "responses=responses.drop(\"info.file\", axis=1)\n",
    "responses=responses.drop(\"info.participant\", axis=1)\n",
    "\n",
    "# Drop columns that contain all zero values\n",
    "# Store column names before dropping\n",
    "columns_before = responses.columns.tolist()\n",
    "# Drop zero-columns\n",
    "responses = responses.loc[:, (responses != 0).any(axis=0)]\n",
    "# Store column names after dropping\n",
    "columns_after = responses.columns.tolist()\n",
    "# Determine which columns were dropped\n",
    "columns_dropped = [col for col in columns_before if col not in columns_after]\n",
    "# Drop those columns from ARAUS_features\n",
    "ARAUS_features = [col for col in ARAUS_features if col not in columns_dropped]\n",
    "\n",
    "\n",
    "responses.info()\n"
   ]
  },
  {
   "cell_type": "markdown",
   "metadata": {},
   "source": [
    "## 1) PLEASANTNESS"
   ]
  },
  {
   "cell_type": "code",
   "execution_count": 22,
   "metadata": {},
   "outputs": [
    {
     "name": "stdout",
     "output_type": "stream",
     "text": [
      "Investigating performance of KNeighborsRegressor(n_neighbors=150) model...\n",
      "     |    Mean squared error    |    Mean absolute error   ||       # samples      | #     | # NZ \n",
      "Fold |--------+--------+--------|--------+--------+--------||-------+-------+------| feat- | feat-\n",
      "     | Train  |   Val  |  Test  | Train  |   Val  |  Test  || Train |  Val  | Test | ures  | ures \n",
      "-----+--------+--------+--------+--------+--------+--------+---------+-------+-------+------+-------+------\n",
      "   1 | 0.1253 | 0.1392 | 0.0870 | 0.2880 | 0.3043 | 0.2387 || 19160 |  5040 |  48  |  113  |\n",
      "   2 | 0.1267 | 0.1301 | 0.0941 | 0.2899 | 0.2921 | 0.2462 || 19160 |  5040 |  48  |  113  |\n",
      "   3 | 0.1237 | 0.1471 | 0.1009 | 0.2861 | 0.3120 | 0.2575 || 20160 |  4040 |  48  |  113  |\n",
      "   4 | 0.1237 | 0.1418 | 0.0991 | 0.2853 | 0.3115 | 0.2562 || 19160 |  5040 |  48  |  113  |\n",
      "   5 | 0.1254 | 0.1367 | 0.0964 | 0.2878 | 0.3020 | 0.2578 || 19160 |  5040 |  48  |  113  |\n",
      "Mean | 0.1250 | 0.1390 | 0.0955 | 0.2874 | 0.3044 | 0.2513 |\n",
      "\n"
     ]
    }
   ],
   "source": [
    "from sklearn.neighbors import KNeighborsRegressor\n",
    "model = KNeighborsRegressor(n_neighbors=150)\n",
    "print(f'Investigating performance of {model} model...')\n",
    "MSEs_train = []\n",
    "MSEs_val = []\n",
    "MSEs_test = []\n",
    "MEs_train = []\n",
    "MEs_val = []\n",
    "MEs_test = []\n",
    "\n",
    "print('     |    Mean squared error    |    Mean absolute error   ||       # samples      | #     | # NZ ')\n",
    "print('Fold |--------+--------+--------|--------+--------+--------||-------+-------+------| feat- | feat-')\n",
    "print('     | Train  |   Val  |  Test  | Train  |   Val  |  Test  || Train |  Val  | Test | ures  | ures ')\n",
    "print('-----+--------+--------+--------+--------+--------+--------+---------+-------+-------+------+-------+------')\n",
    "for val_fold in [1,2,3,4,5]:\n",
    "\n",
    "    # Extract dataframes\n",
    "    df_train = responses[(responses['info.fold'] != val_fold) & (responses['info.fold'] > 0)] # For the training set, use all samples that are not in the test set (fold 0) and current validation fold.\n",
    "    df_val   = responses[responses['info.fold'] == val_fold]\n",
    "    df_test  = responses[responses['info.fold'] == 0].groupby(['info.soundscape','info.masker','info.smr']).mean() # For the test set, the same 48 stimuli were shown to all participants so we take the mean of their ratings as the ground truth\n",
    "\n",
    "    # Get ground-truth labels\n",
    "    Y_train = df_train['info.P_ground_truth'].values\n",
    "    Y_val = df_val['info.P_ground_truth'].values\n",
    "    Y_test = df_test['info.P_ground_truth'].values\n",
    "\n",
    "    # Get features\n",
    "    X_train = df_train[ARAUS_features].values\n",
    "    X_val =df_val[ARAUS_features].values\n",
    "    X_test = df_test[ARAUS_features].values    \n",
    "\n",
    "    # Fit model\n",
    "    X_LR = model.fit(X_train, Y_train)\n",
    "\n",
    "\n",
    "    # Get MSEs\n",
    "    MSE_train = np.mean((clip(X_LR.predict(X_train)) - Y_train)**2)\n",
    "    MSE_val = np.mean((clip(X_LR.predict(X_val)) - Y_val)**2)\n",
    "    MSE_test = np.mean((clip(X_LR.predict(X_test)) - Y_test)**2)\n",
    "    ME_train = np.mean(np.abs(clip(X_LR.predict(X_train)) - Y_train))\n",
    "    ME_val = np.mean(np.abs(clip(X_LR.predict(X_val)) - Y_val))\n",
    "    ME_test = np.mean(np.abs(clip(X_LR.predict(X_test)) - Y_test))\n",
    "\n",
    "    # Add metrics\n",
    "    MSEs_train.append(MSE_train)\n",
    "    MSEs_val.append(MSE_val)\n",
    "    MSEs_test.append(MSE_test)\n",
    "    MEs_train.append(ME_train)\n",
    "    MEs_val.append(ME_val)\n",
    "    MEs_test.append(ME_test)\n",
    "\n",
    "    print(f'{val_fold:4d} | {MSE_train:.4f} | {MSE_val:.4f} | {MSE_test:.4f} | {ME_train:.4f} | {ME_val:.4f} | {ME_test:.4f} || {X_train.shape[0]:5d} | {X_val.shape[0]:5d} | {X_test.shape[0]:^4d} | {X_train.shape[1]:^5d} |')\n",
    "\n",
    "print(f'Mean | {np.mean(MSEs_train):.4f} | {np.mean(MSEs_val):.4f} | {np.mean(MSEs_test):.4f} | {np.mean(MEs_train):.4f} | {np.mean(MEs_val):.4f} | {np.mean(MEs_test):.4f} |')\n",
    "print()"
   ]
  },
  {
   "cell_type": "markdown",
   "metadata": {},
   "source": [
    "K=5\n",
    "Mean | 0.0912 | 0.1634 | 0.1202 | 0.2412 | 0.3279 | 0.2796 |\n",
    "K=10\n",
    "Mean | 0.1010 | 0.1496 | 0.1088 | 0.2553 | 0.3144 | 0.2653 |\n",
    "K=15\n",
    "Mean | 0.1056 | 0.1465 | 0.1071 | 0.2614 | 0.3116 | 0.2638 |\n",
    "K=20\n",
    "Mean | 0.1087 | 0.1441 | 0.1028 | 0.2655 | 0.3090 | 0.2596 |\n",
    "K=25\n",
    "Mean | 0.1107 | 0.1426 | 0.1038 | 0.2682 | 0.3076 | 0.2600 |\n",
    "K=30\n",
    "Mean | 0.1123 | 0.1418 | 0.1022 | 0.2704 | 0.3069 | 0.2606 |\n",
    "K=40\n",
    "Mean | 0.1146 | 0.1406 | 0.1011 | 0.2734 | 0.3054 | 0.2588 |\n",
    "K=50\n",
    "Mean | 0.1163 | 0.1401 | 0.1036 | 0.2756 | 0.3051 | 0.2625 |\n",
    "K=60\n",
    "Mean | 0.1178 | 0.1397 | 0.1030 | 0.2774 | 0.3049 | 0.2622 |\n",
    "K=70\n",
    "Mean | 0.1190 | 0.1396 | 0.1015 | 0.2791 | 0.3047 | 0.2603 |\n",
    "K=80\n",
    "Mean | 0.1201 | 0.1394 | 0.0994 | 0.2805 | 0.3045 | 0.2569 |\n",
    "K=90\n",
    "Mean | 0.1209 | 0.1395 | 0.0969 | 0.2817 | 0.3046 | 0.2539 |\n",
    "K=100\n",
    "Mean | 0.1218 | 0.1395 | 0.0963 | 0.2829 | 0.3046 | 0.2536 |\n",
    "K=120\n",
    "Mean | 0.1232 | 0.1393 | 0.0952 | 0.2849 | 0.3046 | 0.2523 | ---best\n",
    "K=150\n",
    "Mean | 0.1250 | 0.1390 | 0.0955 | 0.2874 | 0.3044 | 0.2513 | ---or this, best\n",
    "\n",
    "K=10, \"distance\"\n",
    "Mean | 0.0142 | 0.1496 | 0.1086 | 0.0385 | 0.3144 | 0.2652 | --- overfitting\n",
    "K=100, \"distance\"\n",
    "Mean | 0.0136 | 0.1393 | 0.0966 | 0.0378 | 0.3045 | 0.2538 | --- overfitting\n"
   ]
  }
 ],
 "metadata": {
  "kernelspec": {
   "display_name": "base",
   "language": "python",
   "name": "python3"
  },
  "language_info": {
   "codemirror_mode": {
    "name": "ipython",
    "version": 3
   },
   "file_extension": ".py",
   "mimetype": "text/x-python",
   "name": "python",
   "nbconvert_exporter": "python",
   "pygments_lexer": "ipython3",
   "version": "3.11.7"
  }
 },
 "nbformat": 4,
 "nbformat_minor": 2
}
