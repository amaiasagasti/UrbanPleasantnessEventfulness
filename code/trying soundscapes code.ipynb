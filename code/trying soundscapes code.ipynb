{
 "cells": [
  {
   "cell_type": "code",
   "execution_count": 1,
   "metadata": {},
   "outputs": [],
   "source": [
    "from SoundLights.features import extract_features\n",
    "from Mosqito.loadFiles import load\n",
    "import pandas as pd\n",
    "import matplotlib.pyplot as plt\n",
    "import numpy as np\n",
    "import os"
   ]
  },
  {
   "cell_type": "code",
   "execution_count": null,
   "metadata": {},
   "outputs": [],
   "source": [
    "\n",
    "\"\"\" # Cargar archivo *.wav\n",
    "file=\"fold_1_participant_00001_stimulus_02.wav\"\n",
    "path = \"../data/soundscapes_augmented/\"+file\n",
    "wav_gain=53.32232002037211\n",
    "signal, fs = load(path, wav_calib=wav_gain, ch=1)\n",
    "\n",
    "# Call extract features\n",
    "list=[\"loudness\", \"sharpness\", \"LA\", \"LC\"]\n",
    "output=extract_features(signal, fs, list) \"\"\"\n"
   ]
  },
  {
   "cell_type": "code",
   "execution_count": 4,
   "metadata": {},
   "outputs": [
    {
     "ename": "KeyError",
     "evalue": "0",
     "output_type": "error",
     "traceback": [
      "\u001b[0;31m---------------------------------------------------------------------------\u001b[0m",
      "\u001b[0;31mKeyError\u001b[0m                                  Traceback (most recent call last)",
      "File \u001b[0;32m/Library/Frameworks/Python.framework/Versions/3.12/lib/python3.12/site-packages/pandas/core/indexes/base.py:3790\u001b[0m, in \u001b[0;36mIndex.get_loc\u001b[0;34m(self, key)\u001b[0m\n\u001b[1;32m   3789\u001b[0m \u001b[39mtry\u001b[39;00m:\n\u001b[0;32m-> 3790\u001b[0m     \u001b[39mreturn\u001b[39;00m \u001b[39mself\u001b[39;49m\u001b[39m.\u001b[39;49m_engine\u001b[39m.\u001b[39;49mget_loc(casted_key)\n\u001b[1;32m   3791\u001b[0m \u001b[39mexcept\u001b[39;00m \u001b[39mKeyError\u001b[39;00m \u001b[39mas\u001b[39;00m err:\n",
      "File \u001b[0;32mindex.pyx:152\u001b[0m, in \u001b[0;36mpandas._libs.index.IndexEngine.get_loc\u001b[0;34m()\u001b[0m\n",
      "File \u001b[0;32mindex.pyx:181\u001b[0m, in \u001b[0;36mpandas._libs.index.IndexEngine.get_loc\u001b[0;34m()\u001b[0m\n",
      "File \u001b[0;32mpandas/_libs/hashtable_class_helper.pxi:2606\u001b[0m, in \u001b[0;36mpandas._libs.hashtable.Int64HashTable.get_item\u001b[0;34m()\u001b[0m\n",
      "File \u001b[0;32mpandas/_libs/hashtable_class_helper.pxi:2630\u001b[0m, in \u001b[0;36mpandas._libs.hashtable.Int64HashTable.get_item\u001b[0;34m()\u001b[0m\n",
      "\u001b[0;31mKeyError\u001b[0m: 0",
      "\nThe above exception was the direct cause of the following exception:\n",
      "\u001b[0;31mKeyError\u001b[0m                                  Traceback (most recent call last)",
      "\u001b[1;32m/Users/amaiasagastimartinez/Desktop/Master/Master-Thesis/Code/code/trying soundscapes code.ipynb Cell 3\u001b[0m line \u001b[0;36m3\n\u001b[1;32m     <a href='vscode-notebook-cell:/Users/amaiasagastimartinez/Desktop/Master/Master-Thesis/Code/code/trying%20soundscapes%20code.ipynb#W2sZmlsZQ%3D%3D?line=30'>31</a>\u001b[0m audio_info_aug \u001b[39m=\u001b[39m audio_info_aug[audio_info_aug[\u001b[39m'\u001b[39m\u001b[39mparticipant\u001b[39m\u001b[39m'\u001b[39m] \u001b[39m==\u001b[39m file_participant] \u001b[39m# Row of info from responses_wav_gains.csv\u001b[39;00m\n\u001b[1;32m     <a href='vscode-notebook-cell:/Users/amaiasagastimartinez/Desktop/Master/Master-Thesis/Code/code/trying%20soundscapes%20code.ipynb#W2sZmlsZQ%3D%3D?line=32'>33</a>\u001b[0m \u001b[39m# Get signal\u001b[39;00m\n\u001b[0;32m---> <a href='vscode-notebook-cell:/Users/amaiasagastimartinez/Desktop/Master/Master-Thesis/Code/code/trying%20soundscapes%20code.ipynb#W2sZmlsZQ%3D%3D?line=33'>34</a>\u001b[0m \u001b[39mprint\u001b[39m(audio_info_aug[\u001b[39m\"\u001b[39;49m\u001b[39mwav_gain\u001b[39;49m\u001b[39m\"\u001b[39;49m][\u001b[39m0\u001b[39;49m])\n\u001b[1;32m     <a href='vscode-notebook-cell:/Users/amaiasagastimartinez/Desktop/Master/Master-Thesis/Code/code/trying%20soundscapes%20code.ipynb#W2sZmlsZQ%3D%3D?line=34'>35</a>\u001b[0m signalR, fs \u001b[39m=\u001b[39m load(audio_path, wav_calib\u001b[39m=\u001b[39maudio_info_aug[\u001b[39m\"\u001b[39m\u001b[39mwav_gain\u001b[39m\u001b[39m\"\u001b[39m][\u001b[39m0\u001b[39m], ch\u001b[39m=\u001b[39m\u001b[39m1\u001b[39m) \u001b[39m#R\u001b[39;00m\n\u001b[1;32m     <a href='vscode-notebook-cell:/Users/amaiasagastimartinez/Desktop/Master/Master-Thesis/Code/code/trying%20soundscapes%20code.ipynb#W2sZmlsZQ%3D%3D?line=36'>37</a>\u001b[0m \u001b[39m# Extract features for signal\u001b[39;00m\n",
      "File \u001b[0;32m/Library/Frameworks/Python.framework/Versions/3.12/lib/python3.12/site-packages/pandas/core/series.py:1040\u001b[0m, in \u001b[0;36mSeries.__getitem__\u001b[0;34m(self, key)\u001b[0m\n\u001b[1;32m   1037\u001b[0m     \u001b[39mreturn\u001b[39;00m \u001b[39mself\u001b[39m\u001b[39m.\u001b[39m_values[key]\n\u001b[1;32m   1039\u001b[0m \u001b[39melif\u001b[39;00m key_is_scalar:\n\u001b[0;32m-> 1040\u001b[0m     \u001b[39mreturn\u001b[39;00m \u001b[39mself\u001b[39;49m\u001b[39m.\u001b[39;49m_get_value(key)\n\u001b[1;32m   1042\u001b[0m \u001b[39m# Convert generator to list before going through hashable part\u001b[39;00m\n\u001b[1;32m   1043\u001b[0m \u001b[39m# (We will iterate through the generator there to check for slices)\u001b[39;00m\n\u001b[1;32m   1044\u001b[0m \u001b[39mif\u001b[39;00m is_iterator(key):\n",
      "File \u001b[0;32m/Library/Frameworks/Python.framework/Versions/3.12/lib/python3.12/site-packages/pandas/core/series.py:1156\u001b[0m, in \u001b[0;36mSeries._get_value\u001b[0;34m(self, label, takeable)\u001b[0m\n\u001b[1;32m   1153\u001b[0m     \u001b[39mreturn\u001b[39;00m \u001b[39mself\u001b[39m\u001b[39m.\u001b[39m_values[label]\n\u001b[1;32m   1155\u001b[0m \u001b[39m# Similar to Index.get_value, but we do not fall back to positional\u001b[39;00m\n\u001b[0;32m-> 1156\u001b[0m loc \u001b[39m=\u001b[39m \u001b[39mself\u001b[39;49m\u001b[39m.\u001b[39;49mindex\u001b[39m.\u001b[39;49mget_loc(label)\n\u001b[1;32m   1158\u001b[0m \u001b[39mif\u001b[39;00m is_integer(loc):\n\u001b[1;32m   1159\u001b[0m     \u001b[39mreturn\u001b[39;00m \u001b[39mself\u001b[39m\u001b[39m.\u001b[39m_values[loc]\n",
      "File \u001b[0;32m/Library/Frameworks/Python.framework/Versions/3.12/lib/python3.12/site-packages/pandas/core/indexes/base.py:3797\u001b[0m, in \u001b[0;36mIndex.get_loc\u001b[0;34m(self, key)\u001b[0m\n\u001b[1;32m   3792\u001b[0m     \u001b[39mif\u001b[39;00m \u001b[39misinstance\u001b[39m(casted_key, \u001b[39mslice\u001b[39m) \u001b[39mor\u001b[39;00m (\n\u001b[1;32m   3793\u001b[0m         \u001b[39misinstance\u001b[39m(casted_key, abc\u001b[39m.\u001b[39mIterable)\n\u001b[1;32m   3794\u001b[0m         \u001b[39mand\u001b[39;00m \u001b[39many\u001b[39m(\u001b[39misinstance\u001b[39m(x, \u001b[39mslice\u001b[39m) \u001b[39mfor\u001b[39;00m x \u001b[39min\u001b[39;00m casted_key)\n\u001b[1;32m   3795\u001b[0m     ):\n\u001b[1;32m   3796\u001b[0m         \u001b[39mraise\u001b[39;00m InvalidIndexError(key)\n\u001b[0;32m-> 3797\u001b[0m     \u001b[39mraise\u001b[39;00m \u001b[39mKeyError\u001b[39;00m(key) \u001b[39mfrom\u001b[39;00m \u001b[39merr\u001b[39;00m\n\u001b[1;32m   3798\u001b[0m \u001b[39mexcept\u001b[39;00m \u001b[39mTypeError\u001b[39;00m:\n\u001b[1;32m   3799\u001b[0m     \u001b[39m# If we have a listlike key, _check_indexing_error will raise\u001b[39;00m\n\u001b[1;32m   3800\u001b[0m     \u001b[39m#  InvalidIndexError. Otherwise we fall through and re-raise\u001b[39;00m\n\u001b[1;32m   3801\u001b[0m     \u001b[39m#  the TypeError.\u001b[39;00m\n\u001b[1;32m   3802\u001b[0m     \u001b[39mself\u001b[39m\u001b[39m.\u001b[39m_check_indexing_error(key)\n",
      "\u001b[0;31mKeyError\u001b[0m: 0"
     ]
    }
   ],
   "source": [
    "\n",
    "\n",
    "data_augmented = pd.read_csv(\"../data/responses_wav_gains.csv\")\n",
    "\n",
    "column_names = ['Savg_r','Smax_r','S05_r','S10_r','S20_r','S30_r','S40_r','S50_r','S60_r','S70_r','S80_r','S90_r','S95_r',\n",
    "                         'Navg_r','Nrmc_r','Nmax_r','N05_r','N10_r','N20_r','N30_r','N40_r','N50_r','N60_r','N70_r','N80_r','N90_r','N95_r',\n",
    "                         'Favg_r','Fmax_r','F05_r','F10_r','F20_r','F30_r','F40_r','F50_r','F60_r','F70_r','F80_r','F90_r','F95_r',\n",
    "                         'LAavg_r','LAmin_r','LAmax_r','LA05_r','LA10_r','LA20_r','LA30_r','LA40_r','LA50_r','LA60_r','LA70_r','LA80_r','LA90_r','LA95_r',\n",
    "                         'LCavg_r','LCmin_r','LCmax_r','LC05_r','LC10_r','LC20_r','LC30_r','LC40_r','LC50_r','LC60_r','LC70_r','LC80_r','LC90_r','LC95_r',\n",
    "                         'Ravg_r','Rmax_r','R05_r','R10_r','R20_r','R30_r','R40_r','R50_r','R60_r','R70_r','R80_r','R90_r','R95_r',\n",
    "                         'Tgavg_r','Tavg_r','Tmax_r','T05_r','T10_r','T20_r','T30_r','T40_r','T50_r','T60_r','T70_r','T80_r','T90_r','T95_r',\n",
    "                         'M00005_0_r','M00006_3_r','M00008_0_r','M00010_0_r','M00012_5_r','M00016_0_r','M00020_0_r','M00025_0_r','M00031_5_r','M00040_0_r',\n",
    "                         'M00050_0_r','M00063_0_r','M00080_0_r','M00100_0_r','M00125_0_r','M00160_0_r','M00200_0_r','M00250_0_r','M00315_0_r','M00400_0_r',\n",
    "                         'M00500_0_r','M00630_0_r','M00800_0_r','M01000_0_r','M01250_0_r','M01600_0_r','M02000_0_r','M02500_0_r','M03150_0_r','M04000_0_r',\n",
    "                         'M05000_0_r','M06300_0_r','M08000_0_r','M10000_0_r','M12500_0_r','M16000_0_r','M20000_0_r']\n",
    "\n",
    "new_df = pd.DataFrame(columns=column_names)\n",
    "aug_df = pd.DataFrame(columns=column_names)\n",
    "\n",
    "# For each audio...\n",
    "audios_path = \"../data/soundscapes_augmented/\"\n",
    "for file in sorted(os.listdir(audios_path)):\n",
    "        if file.endswith('.mp3') or file.endswith('.wav'):\n",
    "            # audio path\n",
    "            audio_path=audios_path+file\n",
    "            # Find the row where the filename matches in the \"soundscape\" column\n",
    "            file_split=file.split(\"_\")\n",
    "            file_fold=int(file_split[1])\n",
    "            file_participant=\"ARAUS_\"+file_split[3]\n",
    "            file_stimulus=int(file_split[5].split(\".\")[0])\n",
    "            audio_info_aug = data_augmented[data_augmented['fold_r'] == file_fold]\n",
    "            audio_info_aug = audio_info_aug[audio_info_aug['stimulus_index'] == file_stimulus]\n",
    "            audio_info_aug = audio_info_aug[audio_info_aug['participant'] == file_participant] # Row of info from responses_wav_gains.csv\n",
    "\n",
    "            # Get signal\n",
    "            print(audio_info_aug[\"wav_gain\"])\n",
    "            signalR, fs = load(audio_path, wav_calib=audio_info_aug[\"wav_gain\"][0], ch=1) #R\n",
    "\n",
    "            # Extract features for signal\n",
    "            list=[\"loudness\", \"sharpness\", \"LA\", \"LC\"]\n",
    "            audio_features=extract_features(signalR, fs, list)\n",
    "\n",
    "            # Save\n",
    "            new_df = pd.concat([new_df, pd.DataFrame([audio_features])], ignore_index=True)\n",
    "            aug_df = pd.concat([aug_df, pd.DataFrame(audio_info_aug)], ignore_index=True)\n",
    "\n",
    "\n",
    "for feature in column_names:\n",
    "    print(feature)\n",
    "    if((feature!=\"soundscape\" or feature!=\"gain\")):             \n",
    "        plt.plot(aug_df[feature], \"o-\", label=\"ground truth\")\n",
    "        plt.plot(new_df[feature], \"o-\", label=\"result\")\n",
    "        error=np.abs(aug_df[feature]-new_df[feature])\n",
    "        plt.plot(error, \"o-\", label=\"error\")\n",
    "        plt.xlabel('Soundscapes')\n",
    "        plt.title(feature)\n",
    "        plt.legend()\n",
    "        plt.show() "
   ]
  }
 ],
 "metadata": {
  "kernelspec": {
   "display_name": "Python 3",
   "language": "python",
   "name": "python3"
  },
  "language_info": {
   "codemirror_mode": {
    "name": "ipython",
    "version": 3
   },
   "file_extension": ".py",
   "mimetype": "text/x-python",
   "name": "python",
   "nbconvert_exporter": "python",
   "pygments_lexer": "ipython3",
   "version": "3.12.0"
  }
 },
 "nbformat": 4,
 "nbformat_minor": 2
}
