{
 "cells": [
  {
   "cell_type": "markdown",
   "metadata": {},
   "source": [
    "Code to generate sub-datasets of ARAUS-extended dataset, containing only rows corresponding to fold 0. The difference between the 6 subdatasets relies on the wav_gains column:\n",
    "- Every audio has equal wav_gains = 5\n",
    "- Each audio has a random wav_gain, more or less contained between 0 and 10\n",
    "- Each audio has their original wav_gain x 0.25\n",
    "- Each audio has their original wav_gain x 0.5\n",
    "- Each audio has their original wav_gain x 2\n",
    "- Each audio has their original wav_gain x 4\n",
    "\n",
    "It directly stores the csv files of the subdatasets"
   ]
  },
  {
   "cell_type": "code",
   "execution_count": 3,
   "metadata": {},
   "outputs": [],
   "source": [
    "import pandas as pd\n",
    "import os\n",
    "import numpy as np\n",
    "import matplotlib.pyplot as plt\n",
    "\n",
    "responses_ARAUS= pd.read_csv(os.path.join('..','data/csv_files','SoundLights_ARAUS.csv'))\n",
    "responses_ARAUS=responses_ARAUS[responses_ARAUS['info.fold'] == 0]\n",
    "\n",
    "# All gains equal to 5\n",
    "responses_ARAUS_equal=responses_ARAUS.copy()\n",
    "responses_ARAUS_equal[\"info.wav_gain\"]=5\n",
    "# All gains are random between 0 and 10\n",
    "np.random.seed(0)  # For reproducibility\n",
    "mean = 5.5\n",
    "std_dev = 2  # Adjust this value as needed\n",
    "random_numbers = np.random.normal(loc=mean, scale=std_dev, size=len(responses_ARAUS))\n",
    "responses_ARAUS_random=responses_ARAUS.copy()\n",
    "responses_ARAUS_random[\"info.wav_gain\"]=random_numbers\n",
    "# Gains x0.25, x0.5, x2, x4\n",
    "responses_ARAUS_0_25=responses_ARAUS.copy()\n",
    "responses_ARAUS_0_25[\"info.wav_gain\"]=responses_ARAUS_0_25[\"info.wav_gain\"].values*0.25\n",
    "responses_ARAUS_0_5=responses_ARAUS.copy()\n",
    "responses_ARAUS_0_5[\"info.wav_gain\"]=responses_ARAUS_0_5[\"info.wav_gain\"].values*0.5\n",
    "responses_ARAUS_2=responses_ARAUS.copy()\n",
    "responses_ARAUS_2[\"info.wav_gain\"]=responses_ARAUS_2[\"info.wav_gain\"].values*2\n",
    "responses_ARAUS_4=responses_ARAUS.copy()\n",
    "responses_ARAUS_4[\"info.wav_gain\"]=responses_ARAUS_4[\"info.wav_gain\"].values*4\n",
    "\n",
    "\n",
    "# Save all\n",
    "responses_ARAUS_equal.to_csv(\"../data/csv_files/SoundLights_ARAUS_fold0_equal.csv\", index=False)\n",
    "responses_ARAUS_random.to_csv(\"../data/csv_files/SoundLights_ARAUS_fold0_random.csv\", index=False)\n",
    "responses_ARAUS_0_25.to_csv(\"../data/csv_files/SoundLights_ARAUS_fold0_0_25.csv\", index=False)\n",
    "responses_ARAUS_0_5.to_csv(\"../data/csv_files/SoundLights_ARAUS_fold0_0_5.csv\", index=False)\n",
    "responses_ARAUS_2.to_csv(\"../data/csv_files/SoundLights_ARAUS_fold0_2.csv\", index=False)\n",
    "responses_ARAUS_4.to_csv(\"../data/csv_files/SoundLights_ARAUS_fold0_4.csv\", index=False)"
   ]
  }
 ],
 "metadata": {
  "kernelspec": {
   "display_name": "base",
   "language": "python",
   "name": "python3"
  },
  "language_info": {
   "codemirror_mode": {
    "name": "ipython",
    "version": 3
   },
   "file_extension": ".py",
   "mimetype": "text/x-python",
   "name": "python",
   "nbconvert_exporter": "python",
   "pygments_lexer": "ipython3",
   "version": "3.11.7"
  }
 },
 "nbformat": 4,
 "nbformat_minor": 2
}
