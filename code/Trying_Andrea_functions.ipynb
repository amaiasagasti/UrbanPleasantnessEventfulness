{
 "cells": [
  {
   "cell_type": "code",
   "execution_count": 1,
   "metadata": {},
   "outputs": [],
   "source": [
    "\n",
    "import sys\n",
    "import os\n",
    "sys.path.append('..')\n",
    "\n",
    "# Import numpy\n",
    "import numpy as np\n",
    "import pandas as pd\n",
    "# Import plot function\n",
    "import matplotlib.pyplot as plt\n",
    "# Import mosqito functions\n",
    "#from mosqito.utils import load\n",
    "from mosqito.sq_metrics import loudness_zwtv, sharpness_din_tv, roughness_dw, pr_ecma_tv, tnr_ecma_tv\n",
    "from scipy.io import wavfile\n",
    "from scipy.signal import resample\n",
    "from maad.spl import pressure2leq, pressure2dBSPL\n",
    "from maad.util import mean_dB\n",
    "import librosa\n",
    "\n",
    "# Import MOSQITO color sheme [Optional]\n",
    "from mosqito import COLORS\n",
    "\n",
    "# To get inline plots (specific to Jupyter notebook)\n",
    "#%matplotlib notebook"
   ]
  },
  {
   "cell_type": "code",
   "execution_count": 2,
   "metadata": {},
   "outputs": [
    {
     "ename": "ModuleNotFoundError",
     "evalue": "No module named 'loudness_ISO532'",
     "output_type": "error",
     "traceback": [
      "\u001b[0;31m---------------------------------------------------------------------------\u001b[0m",
      "\u001b[0;31mModuleNotFoundError\u001b[0m                       Traceback (most recent call last)",
      "\u001b[1;32m/Users/amaiasagastimartinez/Desktop/Master/Master-Thesis/Code/code/Trying_Andrea_functions.ipynb Cell 2\u001b[0m line \u001b[0;36m6\n\u001b[1;32m      <a href='vscode-notebook-cell:/Users/amaiasagastimartinez/Desktop/Master/Master-Thesis/Code/code/Trying_Andrea_functions.ipynb#W2sZmlsZQ%3D%3D?line=3'>4</a>\u001b[0m \u001b[39mimport\u001b[39;00m \u001b[39mos\u001b[39;00m\n\u001b[1;32m      <a href='vscode-notebook-cell:/Users/amaiasagastimartinez/Desktop/Master/Master-Thesis/Code/code/Trying_Andrea_functions.ipynb#W2sZmlsZQ%3D%3D?line=4'>5</a>\u001b[0m sys\u001b[39m.\u001b[39mpath\u001b[39m.\u001b[39mappend(\u001b[39m'\u001b[39m\u001b[39mcode/PsychoacousticParametersMeasurerAndreaCastiella\u001b[39m\u001b[39m'\u001b[39m)\n\u001b[0;32m----> <a href='vscode-notebook-cell:/Users/amaiasagastimartinez/Desktop/Master/Master-Thesis/Code/code/Trying_Andrea_functions.ipynb#W2sZmlsZQ%3D%3D?line=5'>6</a>\u001b[0m \u001b[39mimport\u001b[39;00m \u001b[39mloudness_ISO532\u001b[39;00m\n\u001b[1;32m      <a href='vscode-notebook-cell:/Users/amaiasagastimartinez/Desktop/Master/Master-Thesis/Code/code/Trying_Andrea_functions.ipynb#W2sZmlsZQ%3D%3D?line=6'>7</a>\u001b[0m \u001b[39mimport\u001b[39;00m \u001b[39msys\u001b[39;00m\n\u001b[1;32m      <a href='vscode-notebook-cell:/Users/amaiasagastimartinez/Desktop/Master/Master-Thesis/Code/code/Trying_Andrea_functions.ipynb#W2sZmlsZQ%3D%3D?line=7'>8</a>\u001b[0m \u001b[39mimport\u001b[39;00m \u001b[39mThirdOctaveFilters\u001b[39;00m \u001b[39mas\u001b[39;00m \u001b[39mTOF\u001b[39;00m\n",
      "\u001b[0;31mModuleNotFoundError\u001b[0m: No module named 'loudness_ISO532'"
     ]
    }
   ],
   "source": [
    "import math\n",
    "import numpy as np\n",
    "import soundfile as sf\n",
    "import os\n",
    "sys.path.append('code/PsychoacousticParametersMeasurerAndreaCastiella')\n",
    "import loudness_ISO532\n",
    "import sys\n",
    "import ThirdOctaveFilters as TOF\n",
    "import Sharpness\n",
    "from FiltroPonderacionA import filtroPonderacionA\n",
    "from Roughness import acousticRoughness\n",
    "from FluctuationStrength import acousticFluctuation, fmoddetection"
   ]
  },
  {
   "cell_type": "code",
   "execution_count": null,
   "metadata": {},
   "outputs": [],
   "source": [
    "# Filtrado tercio de octava\n",
    "    ThirdOctaveLevelTime, _, _ = TOF.ThirdOctaveLevelTime(data)\n",
    "    # Loudness\n",
    "    loudness, specLoudness = loudness_ISO532.loudness_ISO532_time(ThirdOctaveLevelTime, \n",
    "                                                                  SoundFieldDiffuse=0)"
   ]
  }
 ],
 "metadata": {
  "kernelspec": {
   "display_name": "Python 3",
   "language": "python",
   "name": "python3"
  },
  "language_info": {
   "codemirror_mode": {
    "name": "ipython",
    "version": 3
   },
   "file_extension": ".py",
   "mimetype": "text/x-python",
   "name": "python",
   "nbconvert_exporter": "python",
   "pygments_lexer": "ipython3",
   "version": "3.12.0"
  }
 },
 "nbformat": 4,
 "nbformat_minor": 2
}
